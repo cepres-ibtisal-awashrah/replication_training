{
 "cells": [
  {
   "cell_type": "code",
   "execution_count": 324,
   "source": [
    "import pandas as pd\r\n",
    "import numpy as np\r\n",
    "from functools import reduce\r\n",
    "import math\r\n",
    "\r\n"
   ],
   "outputs": [],
   "metadata": {}
  },
  {
   "cell_type": "code",
   "execution_count": 325,
   "source": [
    "def read_file(file_name, sheet_name):\r\n",
    "    return pd.read_excel(file_name, sheet_name)  "
   ],
   "outputs": [],
   "metadata": {}
  },
  {
   "cell_type": "code",
   "execution_count": 326,
   "source": [
    "folder_name =\"C:/Users/iaw/Desktop/Second Training Task/Input/\"\r\n",
    "fund_investment_summary_file_name = folder_name +\"CEPRES_Platform_Fund_CEPRES_Example_Portfolio_Investment_Summary_USD_($)_Net.xlsx\"\r\n",
    "mapping_ids_file_name = folder_name +\"mapping_Ids.xlsx\""
   ],
   "outputs": [],
   "metadata": {}
  },
  {
   "cell_type": "code",
   "execution_count": 327,
   "source": [
    "def load_investment_summary_file(fund_investment_summary_file_name, sheet_name):\r\n",
    "    investment_sumary_df = read_file(fund_investment_summary_file_name,sheet_name)\r\n",
    "    investment_sumary_df = investment_sumary_df.T\r\n",
    "\r\n",
    "    new_coulmns = list(investment_sumary_df.iloc[0].values)\r\n",
    "    investment_sumary_df.columns = new_coulmns\r\n",
    "    investment_sumary_df = investment_sumary_df.iloc[1:, :].reset_index(drop=True)\r\n",
    "    investment_sumary_df.dropna(axis=1, how=\"all\", inplace=True)\r\n",
    "    return investment_sumary_df"
   ],
   "outputs": [],
   "metadata": {}
  },
  {
   "cell_type": "code",
   "execution_count": 328,
   "source": [
    "def load_mapping_Ids(mapping_ids_file_name,sheet_name):\r\n",
    "    dfs = read_file(mapping_ids_file_name,sheet_name)\r\n",
    "    new_header = dfs.iloc[0].str.replace('\\n','') #grab the first row for the header\r\n",
    "    dfs = dfs[1:] #take the data less the header row\r\n",
    "    dfs.columns = new_header #set the header row as the df header\r\n",
    "    country_region_mapping = dict(zip( dfs[\"Country\"],dfs[\"Major Market\"]))\r\n",
    "    return country_region_mapping"
   ],
   "outputs": [],
   "metadata": {}
  },
  {
   "cell_type": "code",
   "execution_count": 329,
   "source": [
    "def generate_performance_attribution_table(investment_sumary_df,country_region_mapping):\r\n",
    "   \r\n",
    "    investment_sumary_df [\"Region\"]= investment_sumary_df[\"Geographical Focus\"].apply(lambda x : country_region_mapping[x])\r\n",
    "    funds = investment_sumary_df.groupby(\"Region\")[\"IRR [% p.a.] - Net of Fees\"].size().apply(lambda x : (x/investment_sumary_df[\"Geographical Focus\"].size)*100 ).reset_index(name ='Funds')\r\n",
    "    mean = investment_sumary_df.groupby(\"Region\")[\"IRR [% p.a.] - Net of Fees\"].apply(np.mean).reset_index(name ='Mean')\r\n",
    "    median = investment_sumary_df.groupby(\"Region\")[\"IRR [% p.a.] - Net of Fees\"].apply(np.median).reset_index(name=\"Median\")\r\n",
    "    data_frames = [funds, mean,median]\r\n",
    "    result = reduce(lambda  left,right: pd.merge(left,right,on=['Region'],\r\n",
    "                                                how='outer'), data_frames)\r\n",
    "    last_row = {\"Region\":\"All\",\"Funds\":result[\"Funds\"].sum(),\"Mean\":investment_sumary_df[\"IRR [% p.a.] - Net of Fees\"].mean(),\"Median\":investment_sumary_df[\"IRR [% p.a.] - Net of Fees\"].median()}\r\n",
    "    result = result.append(last_row,ignore_index=True).round(2)\r\n",
    "    result[\"Funds\"] = result[\"Funds\"].apply(lambda x : str(round(x ,2)) + \"%\")\r\n",
    "    result[\"Mean\"] = result[\"Mean\"].apply(convert_to_percentage)\r\n",
    "    result[\"Median\"] = result[\"Median\"].apply(convert_to_percentage)\r\n",
    "    print(result)\r\n",
    "\r\n"
   ],
   "outputs": [],
   "metadata": {}
  },
  {
   "cell_type": "code",
   "execution_count": 330,
   "source": [
    "def generate_exposure_geographical_focuse_table(investment_sumary_df,country_region_mapping):\r\n",
    "    \r\n",
    "    investment_sumary_df [\"Region\"]= investment_sumary_df[\"Geographical Focus\"].apply(lambda x : country_region_mapping[x])\r\n",
    "    funds = investment_sumary_df.groupby(\"Region\")[\"IRR [% p.a.] - Net of Fees\"].size().apply(lambda x : (x/investment_sumary_df[\"Geographical Focus\"].size)*100 ).reset_index(name ='Funds')\r\n",
    "    mean = investment_sumary_df.groupby(\"Region\")[\"Absolute Commitment\"].apply(np.mean).reset_index(name ='Mean')\r\n",
    "    median = investment_sumary_df.groupby(\"Region\")[\"Absolute Commitment\"].apply(np.median).reset_index(name=\"Median\")\r\n",
    "    min = investment_sumary_df.groupby(\"Region\")[\"Absolute Commitment\"].min().reset_index(name=\"Min\")\r\n",
    "    max = investment_sumary_df.groupby(\"Region\")[\"Absolute Commitment\"].max().reset_index(name=\"Max\")\r\n",
    "    \r\n",
    "    data_frames = [funds, mean,median,min,max]\r\n",
    "    result = reduce(lambda  left,right: pd.merge(left,right,on=['Region'],\r\n",
    "                                                how='outer'), data_frames)\r\n",
    "                \r\n",
    "    last_row = {\"Region\":\"All\",\"Funds\":result[\"Funds\"].sum(),\"Mean\":investment_sumary_df[\"Absolute Commitment\"].mean(),\r\n",
    "    \"Median\":investment_sumary_df[\"Absolute Commitment\"].median(),\"Min\":investment_sumary_df[\"Absolute Commitment\"].min(),\r\n",
    "    \"Max\":investment_sumary_df[\"Absolute Commitment\"].max()}\r\n",
    "\r\n",
    "    result = result.append(last_row,ignore_index=True).round(2)\r\n",
    "    result [\"Funds\"] = result[\"Funds\"].apply(lambda x : str(round(x ,2)) + \"%\")\r\n",
    "\r\n",
    "    print(result)\r\n",
    "\r\n",
    "\r\n",
    "\r\n",
    "\r\n",
    "\r\n",
    "\r\n",
    "\r\n",
    "\r\n"
   ],
   "outputs": [],
   "metadata": {}
  },
  {
   "cell_type": "code",
   "execution_count": 331,
   "source": [
    "def convert_to_percentage(x) -> str: \r\n",
    "    if  isinstance(x, str):\r\n",
    "        return x\r\n",
    "    elif not math.isnan(x):\r\n",
    "        percentange = str(round(x *100 ,2)) + \"%\"\r\n",
    "    else:\r\n",
    "        percentange = \"\"\r\n",
    "    return percentange"
   ],
   "outputs": [],
   "metadata": {}
  },
  {
   "cell_type": "code",
   "execution_count": 332,
   "source": [
    "investment_sumary_df = load_investment_summary_file(fund_investment_summary_file_name,\"Fund Investment Summary\")\r\n",
    "country_region_mapping = load_mapping_Ids(mapping_ids_file_name,\"Country\")\r\n",
    "print(\"\\t\\t\\t\\tCEPRES Example GP \\n\\t Fund Net IRR by Geographic Focus in USD ($) by % Invested Capital\\n\")\r\n",
    "generate_performance_attribution_table(investment_sumary_df,country_region_mapping)\r\n",
    "print(\"\\n\\n\\t\\t\\t\\tCEPRES Example GP \\n\\t\\t Fund Net Information in USD ($) by % Invested Capital\\n\")\r\n",
    "generate_exposure_geographical_focuse_table(investment_sumary_df,country_region_mapping)"
   ],
   "outputs": [
    {
     "output_type": "stream",
     "name": "stdout",
     "text": [
      "\t\t\t\tCEPRES Example GP \n",
      "\t Fund Net IRR by Geographic Focus in USD ($) by % Invested Capital\n",
      "\n",
      "             Region   Funds   Mean Median\n",
      "0              Asia   7.41%  0.18%  0.18%\n",
      "1            Europe  25.93%  0.15%  0.15%\n",
      "2  Northern America  66.67%  0.17%  0.18%\n",
      "3               All  100.0%  0.16%  0.16%\n",
      "\n",
      "\n",
      "\t\t\t\tCEPRES Example GP \n",
      "\t\t Fund Net Information in USD ($) by % Invested Capital\n",
      "\n",
      "             Region   Funds   Mean  Median    Min     Max\n",
      "0              Asia   7.41%  29.50   29.50  24.00   35.00\n",
      "1            Europe  25.93%  61.53   50.00  29.33  158.71\n",
      "2  Northern America  66.67%  48.18   43.34  20.00  100.00\n",
      "3               All  100.0%  50.26   40.01  20.00  158.71\n"
     ]
    }
   ],
   "metadata": {}
  },
  {
   "cell_type": "code",
   "execution_count": null,
   "source": [],
   "outputs": [],
   "metadata": {}
  }
 ],
 "metadata": {
  "orig_nbformat": 4,
  "language_info": {
   "name": "python",
   "version": "3.8.5",
   "mimetype": "text/x-python",
   "codemirror_mode": {
    "name": "ipython",
    "version": 3
   },
   "pygments_lexer": "ipython3",
   "nbconvert_exporter": "python",
   "file_extension": ".py"
  },
  "kernelspec": {
   "name": "python3",
   "display_name": "Python 3.8.5 64-bit"
  },
  "interpreter": {
   "hash": "9bcebbf8a71ac6b0a438157ca22e0044cb1f5402bfaa624689cfe1447d39e8d0"
  }
 },
 "nbformat": 4,
 "nbformat_minor": 2
}